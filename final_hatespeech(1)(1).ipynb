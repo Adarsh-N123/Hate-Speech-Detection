{
  "nbformat": 4,
  "nbformat_minor": 0,
  "metadata": {
    "colab": {
      "provenance": []
    },
    "kernelspec": {
      "name": "python3",
      "display_name": "Python 3"
    },
    "language_info": {
      "name": "python"
    }
  },
  "cells": [
    {
      "cell_type": "code",
      "source": [
        "!pip install fasttext"
      ],
      "metadata": {
        "colab": {
          "base_uri": "https://localhost:8080/"
        },
        "id": "vfj-D5DrlF8T",
        "outputId": "750eb9df-f5fc-41cd-a025-01b57d4ecd2e"
      },
      "execution_count": null,
      "outputs": [
        {
          "output_type": "stream",
          "name": "stdout",
          "text": [
            "Looking in indexes: https://pypi.org/simple, https://us-python.pkg.dev/colab-wheels/public/simple/\n",
            "Collecting fasttext\n",
            "  Downloading fasttext-0.9.2.tar.gz (68 kB)\n",
            "\u001b[?25l     \u001b[90m━━━━━━━━━━━━━━━━━━━━━━━━━━━━━━━━━━━━━━━━\u001b[0m \u001b[32m0.0/68.8 kB\u001b[0m \u001b[31m?\u001b[0m eta \u001b[36m-:--:--\u001b[0m\r\u001b[2K     \u001b[90m━━━━━━━━━━━━━━━━━━━━━━━━━━━━━━━━━━━━━━━━\u001b[0m \u001b[32m68.8/68.8 kB\u001b[0m \u001b[31m3.3 MB/s\u001b[0m eta \u001b[36m0:00:00\u001b[0m\n",
            "\u001b[?25h  Preparing metadata (setup.py) ... \u001b[?25l\u001b[?25hdone\n",
            "Collecting pybind11>=2.2 (from fasttext)\n",
            "  Using cached pybind11-2.10.4-py3-none-any.whl (222 kB)\n",
            "Requirement already satisfied: setuptools>=0.7.0 in /usr/local/lib/python3.10/dist-packages (from fasttext) (67.7.2)\n",
            "Requirement already satisfied: numpy in /usr/local/lib/python3.10/dist-packages (from fasttext) (1.22.4)\n",
            "Building wheels for collected packages: fasttext\n",
            "  Building wheel for fasttext (setup.py) ... \u001b[?25l\u001b[?25hdone\n",
            "  Created wheel for fasttext: filename=fasttext-0.9.2-cp310-cp310-linux_x86_64.whl size=4393168 sha256=9a0d78d2077f2934eee51dd4c89349b777dfbf47aa61737eee883828284da12b\n",
            "  Stored in directory: /root/.cache/pip/wheels/a5/13/75/f811c84a8ab36eedbaef977a6a58a98990e8e0f1967f98f394\n",
            "Successfully built fasttext\n",
            "Installing collected packages: pybind11, fasttext\n",
            "Successfully installed fasttext-0.9.2 pybind11-2.10.4\n"
          ]
        }
      ]
    },
    {
      "cell_type": "code",
      "execution_count": null,
      "metadata": {
        "id": "Wlnsxqi3hOYR"
      },
      "outputs": [],
      "source": [
        "import numpy as np\n",
        "import pandas as pd\n",
        "import matplotlib.pyplot as plt\n",
        "import seaborn as sns\n",
        "import re\n",
        "import csv\n",
        "import fasttext\n",
        "import os\n",
        "import string\n",
        "import nltk"
      ]
    },
    {
      "cell_type": "code",
      "source": [
        "os.environ[\"KAGGLE_USERNAME\"]=\"nidamanuriadarsh\"\n",
        "os.environ[\"KAGGLE_KEY\"]=\"afc73a9685f30971965a4c23de238034\""
      ],
      "metadata": {
        "id": "L6M5-l15heUL"
      },
      "execution_count": null,
      "outputs": []
    },
    {
      "cell_type": "code",
      "source": [
        "!kaggle datasets download -d vaibhavkumar11/hindi-english-parallel-corpus"
      ],
      "metadata": {
        "colab": {
          "base_uri": "https://localhost:8080/"
        },
        "id": "21jxmbLbiW67",
        "outputId": "d19127a3-51e0-47cc-ab56-e6f0565b464d"
      },
      "execution_count": null,
      "outputs": [
        {
          "output_type": "stream",
          "name": "stdout",
          "text": [
            "Downloading hindi-english-parallel-corpus.zip to /content\n",
            " 94% 105M/112M [00:00<00:00, 149MB/s] \n",
            "100% 112M/112M [00:00<00:00, 138MB/s]\n"
          ]
        }
      ]
    },
    {
      "cell_type": "code",
      "source": [
        "!unzip hindi-english-parallel-corpus.zip"
      ],
      "metadata": {
        "colab": {
          "base_uri": "https://localhost:8080/"
        },
        "id": "kh0KakzroE5U",
        "outputId": "972f5ea4-fd41-4dee-bd9b-5f4250680a68"
      },
      "execution_count": null,
      "outputs": [
        {
          "output_type": "stream",
          "name": "stdout",
          "text": [
            "Archive:  hindi-english-parallel-corpus.zip\n",
            "  inflating: hindi_english_parallel.csv  \n"
          ]
        }
      ]
    },
    {
      "cell_type": "code",
      "source": [
        "df = pd.read_csv(\"hindi_english_parallel.csv\")"
      ],
      "metadata": {
        "id": "JNSArE7zoI8N"
      },
      "execution_count": null,
      "outputs": []
    },
    {
      "cell_type": "code",
      "source": [
        "class Processor:\n",
        "  def __init__(self,data):\n",
        "    self.data = data\n",
        "    self.corpus=[]\n",
        "    self.fintext=[]\n",
        "    self.processed_data = []\n",
        "  def process(self):\n",
        "    self.remove_unwanted()\n",
        "    self.generate_fintext()\n",
        "    return self.fintext\n",
        "  def remove_unwanted(self):\n",
        "    self.processed_data= [ re.sub(\"\\w*\\d\\w*\",\"\",re.sub(\"@[\\w\\-]+\",\"User\",re.sub(\"\\n\",\"\",re.sub('[%s]' % re.escape(string.punctuation), '', re.sub(\"'\\[.*?\\]'\",\"\",re.sub('https?://\\S+|www\\.\\S+',\"\",re.sub('<.*?>+', '', str(i)))))))).lower().replace(\"#\",\"\")  for i in self.data]\n",
        "\n",
        "  def generate_fintext(self):\n",
        "    pattern = re.compile(r\"(.)\\1{2,}\")\n",
        "    reduced_words =[]\n",
        "    fintext = []\n",
        "    for i in self.processed_data:\n",
        "      reduced_words = [ pattern.sub(r\"\\1\\1\",j) for j in i.split()]\n",
        "      for k in reduced_words:\n",
        "        self.corpus.append(k)\n",
        "      fintext.append(' '.join(reduced_words))\n",
        "    self.fintext = fintext\n"
      ],
      "metadata": {
        "id": "JWi4sPHYpJ4r"
      },
      "execution_count": null,
      "outputs": []
    },
    {
      "cell_type": "code",
      "source": [
        "df[\"refined\"]=Processor(df[\"english\"].to_list()).process()"
      ],
      "metadata": {
        "id": "4YFHUP0epLqT"
      },
      "execution_count": null,
      "outputs": []
    },
    {
      "cell_type": "code",
      "source": [
        "def save_sentences_to_file(sentences, file_path):\n",
        "    with open(file_path, 'w', encoding='utf-8') as file:\n",
        "        for sentence in sentences:\n",
        "            file.write(str(sentence) + '\\n')"
      ],
      "metadata": {
        "id": "cXcUR7BQovrM"
      },
      "execution_count": null,
      "outputs": []
    },
    {
      "cell_type": "code",
      "source": [
        "save_sentences_to_file(df[\"english\"].to_list()[:100000],\"english_sentences.txt\")"
      ],
      "metadata": {
        "id": "TcXTWM_Mo5wE"
      },
      "execution_count": null,
      "outputs": []
    },
    {
      "cell_type": "code",
      "source": [
        "df.head()"
      ],
      "metadata": {
        "colab": {
          "base_uri": "https://localhost:8080/",
          "height": 320
        },
        "id": "IFU9ZPSPo8CL",
        "outputId": "92066df4-8636-4c11-94c4-35b98c1377fe"
      },
      "execution_count": null,
      "outputs": [
        {
          "output_type": "execute_result",
          "data": {
            "text/plain": [
              "                                               hindi  \\\n",
              "0    अपने अनुप्रयोग को पहुंचनीयता व्यायाम का लाभ दें   \n",
              "1                    एक्सेर्साइसर पहुंचनीयता अन्वेषक   \n",
              "2              निचले पटल के लिए डिफोल्ट प्लग-इन खाका   \n",
              "3               ऊपरी पटल के लिए डिफोल्ट प्लग-इन खाका   \n",
              "4  उन प्लग-इनों की सूची जिन्हें डिफोल्ट रूप से नि...   \n",
              "\n",
              "                                          english  \\\n",
              "0  Give your application an accessibility workout   \n",
              "1               Accerciser Accessibility Explorer   \n",
              "2  The default plugin layout for the bottom panel   \n",
              "3     The default plugin layout for the top panel   \n",
              "4  A list of plugins that are disabled by default   \n",
              "\n",
              "                                          refined  \n",
              "0  give your application an accessibility workout  \n",
              "1               accerciser accessibility explorer  \n",
              "2  the default plugin layout for the bottom panel  \n",
              "3     the default plugin layout for the top panel  \n",
              "4  a list of plugins that are disabled by default  "
            ],
            "text/html": [
              "\n",
              "  <div id=\"df-c54c546b-53cc-446c-97ec-824b8472fde0\">\n",
              "    <div class=\"colab-df-container\">\n",
              "      <div>\n",
              "<style scoped>\n",
              "    .dataframe tbody tr th:only-of-type {\n",
              "        vertical-align: middle;\n",
              "    }\n",
              "\n",
              "    .dataframe tbody tr th {\n",
              "        vertical-align: top;\n",
              "    }\n",
              "\n",
              "    .dataframe thead th {\n",
              "        text-align: right;\n",
              "    }\n",
              "</style>\n",
              "<table border=\"1\" class=\"dataframe\">\n",
              "  <thead>\n",
              "    <tr style=\"text-align: right;\">\n",
              "      <th></th>\n",
              "      <th>hindi</th>\n",
              "      <th>english</th>\n",
              "      <th>refined</th>\n",
              "    </tr>\n",
              "  </thead>\n",
              "  <tbody>\n",
              "    <tr>\n",
              "      <th>0</th>\n",
              "      <td>अपने अनुप्रयोग को पहुंचनीयता व्यायाम का लाभ दें</td>\n",
              "      <td>Give your application an accessibility workout</td>\n",
              "      <td>give your application an accessibility workout</td>\n",
              "    </tr>\n",
              "    <tr>\n",
              "      <th>1</th>\n",
              "      <td>एक्सेर्साइसर पहुंचनीयता अन्वेषक</td>\n",
              "      <td>Accerciser Accessibility Explorer</td>\n",
              "      <td>accerciser accessibility explorer</td>\n",
              "    </tr>\n",
              "    <tr>\n",
              "      <th>2</th>\n",
              "      <td>निचले पटल के लिए डिफोल्ट प्लग-इन खाका</td>\n",
              "      <td>The default plugin layout for the bottom panel</td>\n",
              "      <td>the default plugin layout for the bottom panel</td>\n",
              "    </tr>\n",
              "    <tr>\n",
              "      <th>3</th>\n",
              "      <td>ऊपरी पटल के लिए डिफोल्ट प्लग-इन खाका</td>\n",
              "      <td>The default plugin layout for the top panel</td>\n",
              "      <td>the default plugin layout for the top panel</td>\n",
              "    </tr>\n",
              "    <tr>\n",
              "      <th>4</th>\n",
              "      <td>उन प्लग-इनों की सूची जिन्हें डिफोल्ट रूप से नि...</td>\n",
              "      <td>A list of plugins that are disabled by default</td>\n",
              "      <td>a list of plugins that are disabled by default</td>\n",
              "    </tr>\n",
              "  </tbody>\n",
              "</table>\n",
              "</div>\n",
              "      <button class=\"colab-df-convert\" onclick=\"convertToInteractive('df-c54c546b-53cc-446c-97ec-824b8472fde0')\"\n",
              "              title=\"Convert this dataframe to an interactive table.\"\n",
              "              style=\"display:none;\">\n",
              "        \n",
              "  <svg xmlns=\"http://www.w3.org/2000/svg\" height=\"24px\"viewBox=\"0 0 24 24\"\n",
              "       width=\"24px\">\n",
              "    <path d=\"M0 0h24v24H0V0z\" fill=\"none\"/>\n",
              "    <path d=\"M18.56 5.44l.94 2.06.94-2.06 2.06-.94-2.06-.94-.94-2.06-.94 2.06-2.06.94zm-11 1L8.5 8.5l.94-2.06 2.06-.94-2.06-.94L8.5 2.5l-.94 2.06-2.06.94zm10 10l.94 2.06.94-2.06 2.06-.94-2.06-.94-.94-2.06-.94 2.06-2.06.94z\"/><path d=\"M17.41 7.96l-1.37-1.37c-.4-.4-.92-.59-1.43-.59-.52 0-1.04.2-1.43.59L10.3 9.45l-7.72 7.72c-.78.78-.78 2.05 0 2.83L4 21.41c.39.39.9.59 1.41.59.51 0 1.02-.2 1.41-.59l7.78-7.78 2.81-2.81c.8-.78.8-2.07 0-2.86zM5.41 20L4 18.59l7.72-7.72 1.47 1.35L5.41 20z\"/>\n",
              "  </svg>\n",
              "      </button>\n",
              "      \n",
              "  <style>\n",
              "    .colab-df-container {\n",
              "      display:flex;\n",
              "      flex-wrap:wrap;\n",
              "      gap: 12px;\n",
              "    }\n",
              "\n",
              "    .colab-df-convert {\n",
              "      background-color: #E8F0FE;\n",
              "      border: none;\n",
              "      border-radius: 50%;\n",
              "      cursor: pointer;\n",
              "      display: none;\n",
              "      fill: #1967D2;\n",
              "      height: 32px;\n",
              "      padding: 0 0 0 0;\n",
              "      width: 32px;\n",
              "    }\n",
              "\n",
              "    .colab-df-convert:hover {\n",
              "      background-color: #E2EBFA;\n",
              "      box-shadow: 0px 1px 2px rgba(60, 64, 67, 0.3), 0px 1px 3px 1px rgba(60, 64, 67, 0.15);\n",
              "      fill: #174EA6;\n",
              "    }\n",
              "\n",
              "    [theme=dark] .colab-df-convert {\n",
              "      background-color: #3B4455;\n",
              "      fill: #D2E3FC;\n",
              "    }\n",
              "\n",
              "    [theme=dark] .colab-df-convert:hover {\n",
              "      background-color: #434B5C;\n",
              "      box-shadow: 0px 1px 3px 1px rgba(0, 0, 0, 0.15);\n",
              "      filter: drop-shadow(0px 1px 2px rgba(0, 0, 0, 0.3));\n",
              "      fill: #FFFFFF;\n",
              "    }\n",
              "  </style>\n",
              "\n",
              "      <script>\n",
              "        const buttonEl =\n",
              "          document.querySelector('#df-c54c546b-53cc-446c-97ec-824b8472fde0 button.colab-df-convert');\n",
              "        buttonEl.style.display =\n",
              "          google.colab.kernel.accessAllowed ? 'block' : 'none';\n",
              "\n",
              "        async function convertToInteractive(key) {\n",
              "          const element = document.querySelector('#df-c54c546b-53cc-446c-97ec-824b8472fde0');\n",
              "          const dataTable =\n",
              "            await google.colab.kernel.invokeFunction('convertToInteractive',\n",
              "                                                     [key], {});\n",
              "          if (!dataTable) return;\n",
              "\n",
              "          const docLinkHtml = 'Like what you see? Visit the ' +\n",
              "            '<a target=\"_blank\" href=https://colab.research.google.com/notebooks/data_table.ipynb>data table notebook</a>'\n",
              "            + ' to learn more about interactive tables.';\n",
              "          element.innerHTML = '';\n",
              "          dataTable['output_type'] = 'display_data';\n",
              "          await google.colab.output.renderOutput(dataTable, element);\n",
              "          const docLink = document.createElement('div');\n",
              "          docLink.innerHTML = docLinkHtml;\n",
              "          element.appendChild(docLink);\n",
              "        }\n",
              "      </script>\n",
              "    </div>\n",
              "  </div>\n",
              "  "
            ]
          },
          "metadata": {},
          "execution_count": 11
        }
      ]
    },
    {
      "cell_type": "code",
      "source": [
        "def train_embeddings(language, input_file, output_file):\n",
        "    model = fasttext.train_unsupervised(input=input_file, model='skipgram',dim=300)\n",
        "    model.save_model(output_file)\n",
        "\n",
        "# train_embeddings('english', 'english_sentences.txt', 'english_embeddings.bin')"
      ],
      "metadata": {
        "id": "oFE7XxTWo-v4"
      },
      "execution_count": null,
      "outputs": []
    },
    {
      "cell_type": "code",
      "source": [
        "# model = fasttext.load_model('english_embeddings.bin')"
      ],
      "metadata": {
        "id": "fSA5q0tupzJw"
      },
      "execution_count": null,
      "outputs": []
    },
    {
      "cell_type": "markdown",
      "source": [],
      "metadata": {
        "id": "nr4IW9HvLXxB"
      }
    },
    {
      "cell_type": "code",
      "source": [
        "# english_vectors = {}\n",
        "\n",
        "# for word in model.words:\n",
        "#     vector = model.get_word_vector(word)\n",
        "#     english_vectors[word] = vector"
      ],
      "metadata": {
        "id": "kLD2URXzrjk0"
      },
      "execution_count": null,
      "outputs": []
    },
    {
      "cell_type": "code",
      "source": [
        "!unzip Hinglish-20230621T161556Z-001.zip"
      ],
      "metadata": {
        "colab": {
          "base_uri": "https://localhost:8080/"
        },
        "id": "ad5bBetAs9TY",
        "outputId": "d3c47228-c819-4f8f-f1f7-67881d5fbeb9"
      },
      "execution_count": null,
      "outputs": [
        {
          "output_type": "stream",
          "name": "stdout",
          "text": [
            "Archive:  Hinglish-20230621T161556Z-001.zip\n",
            "  inflating: Hinglish/agr_hi_fb_gold_E.csv  \n",
            "  inflating: Hinglish/trac_2022_annotator_8_dev_E.csv  \n",
            "  inflating: Hinglish/agr_hi_dev_E.csv  \n",
            "  inflating: Hinglish/trac_2022_annotator_9_dev_E.csv  \n",
            "  inflating: Hinglish/trac_2022_annotator_7_dev_E.csv  \n",
            "  inflating: Hinglish/trac_2022_annotator_9_train_E.csv  \n",
            "  inflating: Hinglish/test_tweets_3.csv  \n",
            "  inflating: Hinglish/agr_hi_tw_gold_E.csv  \n",
            "  inflating: Hinglish/trac_2022_annotator_8_train_E.csv  \n",
            "  inflating: Hinglish/agr_hi_train_E.csv  \n",
            "  inflating: Hinglish/trac_2022_annotator_7_train_E.csv  \n",
            "  inflating: Hinglish/hate_speech.csv  \n"
          ]
        }
      ]
    },
    {
      "cell_type": "code",
      "source": [
        "import os\n",
        "\n",
        "folder_path = '/content/Hinglish/'\n",
        "\n",
        "file_names = os.listdir(folder_path)\n",
        "\n",
        "for file_name in file_names:\n",
        "    print(file_name)"
      ],
      "metadata": {
        "colab": {
          "base_uri": "https://localhost:8080/"
        },
        "id": "ugangb_5zlbS",
        "outputId": "c7b571f2-7797-4194-fb9d-b2f1411258cc"
      },
      "execution_count": null,
      "outputs": [
        {
          "output_type": "stream",
          "name": "stdout",
          "text": [
            "trac_2022_annotator_7_train_E.csv\n",
            "agr_hi_fb_gold_E.csv\n",
            "hate_speech.csv\n",
            "trac_2022_annotator_8_train_E.csv\n",
            "trac_2022_annotator_9_train_E.csv\n",
            "agr_hi_tw_gold_E.csv\n",
            "trac_2022_annotator_8_dev_E.csv\n",
            "trac_2022_annotator_7_dev_E.csv\n",
            "agr_hi_train_E.csv\n",
            "trac_2022_annotator_9_dev_E.csv\n",
            "test_tweets_3.csv\n",
            "agr_hi_dev_E.csv\n"
          ]
        }
      ]
    },
    {
      "cell_type": "code",
      "source": [
        "\n",
        "L = []\n",
        "for i in [\"trac_2022_annotator_7_train_E.csv\", \"trac_2022_annotator_8_train_E.csv\", \"trac_2022_annotator_9_train_E.csv\"]:\n",
        "    path = \"/content/Hinglish/\" + i\n",
        "    df1 = pd.read_csv(path)\n",
        "    L.append(df1)\n",
        "\n",
        "combined_df = pd.concat(L)\n",
        "combined_df.head()"
      ],
      "metadata": {
        "colab": {
          "base_uri": "https://localhost:8080/",
          "height": 756
        },
        "id": "a3ukj0lCvvwg",
        "outputId": "3804747d-3683-4068-ccb1-bc06a1b626ce"
      },
      "execution_count": null,
      "outputs": [
        {
          "output_type": "execute_result",
          "data": {
            "text/plain": [
              "   Unnamed: 0                           id  \\\n",
              "0           0   facebook_corpus_msr_747593   \n",
              "1           1  facebook_corpus_msr_2111297   \n",
              "2           2  facebook_corpus_msr_1450799   \n",
              "3           3   facebook_corpus_msr_956362   \n",
              "4           4  facebook_corpus_msr_1972724   \n",
              "\n",
              "                                                text Aggression  \\\n",
              "0   Shaikh Bhai.. Subha Kab Ki Ho gyi Hai.... Man...        OAG   \n",
              "1  No India is better off in BJPs hands but it is...        OAG   \n",
              "2  madam ji Sonia ganghi jeetegi tabhi to banegi ...        OAG   \n",
              "3   Now i really belive 5vi pass pm ki degree nak...        CAG   \n",
              "4  Reasons: 1.rahul 2. Rahul 3.rahul 4.rahil . . ...        CAG   \n",
              "\n",
              "  Aggression Intensity Discursive Role Gender Bias Communal Bias  \\\n",
              "0                 NtAG             ATK        NGEN          NCOM   \n",
              "1                 NtAG             ATK        NGEN          NCOM   \n",
              "2                 NtAG             ATK        NGEN          NCOM   \n",
              "3                 NtAG             NaN        NGEN          NCOM   \n",
              "4                 NtAG             NaN        NGEN          NCOM   \n",
              "\n",
              "  Caste/Class Bias Ethnicity/ Racial Bias  \n",
              "0             NCAS                   NETH  \n",
              "1             NCAS                   NETH  \n",
              "2             NCAS                   NETH  \n",
              "3             NCAS                   NETH  \n",
              "4             NCAS                   NETH  "
            ],
            "text/html": [
              "\n",
              "  <div id=\"df-25c8aa9a-b95e-4b0f-8fe9-5c4ff3e8669e\">\n",
              "    <div class=\"colab-df-container\">\n",
              "      <div>\n",
              "<style scoped>\n",
              "    .dataframe tbody tr th:only-of-type {\n",
              "        vertical-align: middle;\n",
              "    }\n",
              "\n",
              "    .dataframe tbody tr th {\n",
              "        vertical-align: top;\n",
              "    }\n",
              "\n",
              "    .dataframe thead th {\n",
              "        text-align: right;\n",
              "    }\n",
              "</style>\n",
              "<table border=\"1\" class=\"dataframe\">\n",
              "  <thead>\n",
              "    <tr style=\"text-align: right;\">\n",
              "      <th></th>\n",
              "      <th>Unnamed: 0</th>\n",
              "      <th>id</th>\n",
              "      <th>text</th>\n",
              "      <th>Aggression</th>\n",
              "      <th>Aggression Intensity</th>\n",
              "      <th>Discursive Role</th>\n",
              "      <th>Gender Bias</th>\n",
              "      <th>Communal Bias</th>\n",
              "      <th>Caste/Class Bias</th>\n",
              "      <th>Ethnicity/ Racial Bias</th>\n",
              "    </tr>\n",
              "  </thead>\n",
              "  <tbody>\n",
              "    <tr>\n",
              "      <th>0</th>\n",
              "      <td>0</td>\n",
              "      <td>facebook_corpus_msr_747593</td>\n",
              "      <td>Shaikh Bhai.. Subha Kab Ki Ho gyi Hai.... Man...</td>\n",
              "      <td>OAG</td>\n",
              "      <td>NtAG</td>\n",
              "      <td>ATK</td>\n",
              "      <td>NGEN</td>\n",
              "      <td>NCOM</td>\n",
              "      <td>NCAS</td>\n",
              "      <td>NETH</td>\n",
              "    </tr>\n",
              "    <tr>\n",
              "      <th>1</th>\n",
              "      <td>1</td>\n",
              "      <td>facebook_corpus_msr_2111297</td>\n",
              "      <td>No India is better off in BJPs hands but it is...</td>\n",
              "      <td>OAG</td>\n",
              "      <td>NtAG</td>\n",
              "      <td>ATK</td>\n",
              "      <td>NGEN</td>\n",
              "      <td>NCOM</td>\n",
              "      <td>NCAS</td>\n",
              "      <td>NETH</td>\n",
              "    </tr>\n",
              "    <tr>\n",
              "      <th>2</th>\n",
              "      <td>2</td>\n",
              "      <td>facebook_corpus_msr_1450799</td>\n",
              "      <td>madam ji Sonia ganghi jeetegi tabhi to banegi ...</td>\n",
              "      <td>OAG</td>\n",
              "      <td>NtAG</td>\n",
              "      <td>ATK</td>\n",
              "      <td>NGEN</td>\n",
              "      <td>NCOM</td>\n",
              "      <td>NCAS</td>\n",
              "      <td>NETH</td>\n",
              "    </tr>\n",
              "    <tr>\n",
              "      <th>3</th>\n",
              "      <td>3</td>\n",
              "      <td>facebook_corpus_msr_956362</td>\n",
              "      <td>Now i really belive 5vi pass pm ki degree nak...</td>\n",
              "      <td>CAG</td>\n",
              "      <td>NtAG</td>\n",
              "      <td>NaN</td>\n",
              "      <td>NGEN</td>\n",
              "      <td>NCOM</td>\n",
              "      <td>NCAS</td>\n",
              "      <td>NETH</td>\n",
              "    </tr>\n",
              "    <tr>\n",
              "      <th>4</th>\n",
              "      <td>4</td>\n",
              "      <td>facebook_corpus_msr_1972724</td>\n",
              "      <td>Reasons: 1.rahul 2. Rahul 3.rahul 4.rahil . . ...</td>\n",
              "      <td>CAG</td>\n",
              "      <td>NtAG</td>\n",
              "      <td>NaN</td>\n",
              "      <td>NGEN</td>\n",
              "      <td>NCOM</td>\n",
              "      <td>NCAS</td>\n",
              "      <td>NETH</td>\n",
              "    </tr>\n",
              "  </tbody>\n",
              "</table>\n",
              "</div>\n",
              "      <button class=\"colab-df-convert\" onclick=\"convertToInteractive('df-25c8aa9a-b95e-4b0f-8fe9-5c4ff3e8669e')\"\n",
              "              title=\"Convert this dataframe to an interactive table.\"\n",
              "              style=\"display:none;\">\n",
              "        \n",
              "  <svg xmlns=\"http://www.w3.org/2000/svg\" height=\"24px\"viewBox=\"0 0 24 24\"\n",
              "       width=\"24px\">\n",
              "    <path d=\"M0 0h24v24H0V0z\" fill=\"none\"/>\n",
              "    <path d=\"M18.56 5.44l.94 2.06.94-2.06 2.06-.94-2.06-.94-.94-2.06-.94 2.06-2.06.94zm-11 1L8.5 8.5l.94-2.06 2.06-.94-2.06-.94L8.5 2.5l-.94 2.06-2.06.94zm10 10l.94 2.06.94-2.06 2.06-.94-2.06-.94-.94-2.06-.94 2.06-2.06.94z\"/><path d=\"M17.41 7.96l-1.37-1.37c-.4-.4-.92-.59-1.43-.59-.52 0-1.04.2-1.43.59L10.3 9.45l-7.72 7.72c-.78.78-.78 2.05 0 2.83L4 21.41c.39.39.9.59 1.41.59.51 0 1.02-.2 1.41-.59l7.78-7.78 2.81-2.81c.8-.78.8-2.07 0-2.86zM5.41 20L4 18.59l7.72-7.72 1.47 1.35L5.41 20z\"/>\n",
              "  </svg>\n",
              "      </button>\n",
              "      \n",
              "  <style>\n",
              "    .colab-df-container {\n",
              "      display:flex;\n",
              "      flex-wrap:wrap;\n",
              "      gap: 12px;\n",
              "    }\n",
              "\n",
              "    .colab-df-convert {\n",
              "      background-color: #E8F0FE;\n",
              "      border: none;\n",
              "      border-radius: 50%;\n",
              "      cursor: pointer;\n",
              "      display: none;\n",
              "      fill: #1967D2;\n",
              "      height: 32px;\n",
              "      padding: 0 0 0 0;\n",
              "      width: 32px;\n",
              "    }\n",
              "\n",
              "    .colab-df-convert:hover {\n",
              "      background-color: #E2EBFA;\n",
              "      box-shadow: 0px 1px 2px rgba(60, 64, 67, 0.3), 0px 1px 3px 1px rgba(60, 64, 67, 0.15);\n",
              "      fill: #174EA6;\n",
              "    }\n",
              "\n",
              "    [theme=dark] .colab-df-convert {\n",
              "      background-color: #3B4455;\n",
              "      fill: #D2E3FC;\n",
              "    }\n",
              "\n",
              "    [theme=dark] .colab-df-convert:hover {\n",
              "      background-color: #434B5C;\n",
              "      box-shadow: 0px 1px 3px 1px rgba(0, 0, 0, 0.15);\n",
              "      filter: drop-shadow(0px 1px 2px rgba(0, 0, 0, 0.3));\n",
              "      fill: #FFFFFF;\n",
              "    }\n",
              "  </style>\n",
              "\n",
              "      <script>\n",
              "        const buttonEl =\n",
              "          document.querySelector('#df-25c8aa9a-b95e-4b0f-8fe9-5c4ff3e8669e button.colab-df-convert');\n",
              "        buttonEl.style.display =\n",
              "          google.colab.kernel.accessAllowed ? 'block' : 'none';\n",
              "\n",
              "        async function convertToInteractive(key) {\n",
              "          const element = document.querySelector('#df-25c8aa9a-b95e-4b0f-8fe9-5c4ff3e8669e');\n",
              "          const dataTable =\n",
              "            await google.colab.kernel.invokeFunction('convertToInteractive',\n",
              "                                                     [key], {});\n",
              "          if (!dataTable) return;\n",
              "\n",
              "          const docLinkHtml = 'Like what you see? Visit the ' +\n",
              "            '<a target=\"_blank\" href=https://colab.research.google.com/notebooks/data_table.ipynb>data table notebook</a>'\n",
              "            + ' to learn more about interactive tables.';\n",
              "          element.innerHTML = '';\n",
              "          dataTable['output_type'] = 'display_data';\n",
              "          await google.colab.output.renderOutput(dataTable, element);\n",
              "          const docLink = document.createElement('div');\n",
              "          docLink.innerHTML = docLinkHtml;\n",
              "          element.appendChild(docLink);\n",
              "        }\n",
              "      </script>\n",
              "    </div>\n",
              "  </div>\n",
              "  "
            ]
          },
          "metadata": {},
          "execution_count": 17
        }
      ]
    },
    {
      "cell_type": "code",
      "source": [
        "print(len(combined_df[\"text\"].to_list()))"
      ],
      "metadata": {
        "colab": {
          "base_uri": "https://localhost:8080/"
        },
        "id": "4l_TDh00xzXl",
        "outputId": "a9b151f6-949b-4103-cbea-527def1b70ac"
      },
      "execution_count": null,
      "outputs": [
        {
          "output_type": "stream",
          "name": "stdout",
          "text": [
            "32813\n"
          ]
        }
      ]
    },
    {
      "cell_type": "code",
      "source": [
        "combined_df[\"refined\"]=Processor(combined_df[\"text\"].to_list()).process()"
      ],
      "metadata": {
        "id": "ACnkHghp0JTi"
      },
      "execution_count": null,
      "outputs": []
    },
    {
      "cell_type": "code",
      "source": [
        "combined_df.head()"
      ],
      "metadata": {
        "colab": {
          "base_uri": "https://localhost:8080/",
          "height": 826
        },
        "id": "hBOTyqFn0XJM",
        "outputId": "98e36c05-0672-4f90-a1ea-27e17ce21f0a"
      },
      "execution_count": null,
      "outputs": [
        {
          "output_type": "execute_result",
          "data": {
            "text/plain": [
              "   Unnamed: 0                           id  \\\n",
              "0           0   facebook_corpus_msr_747593   \n",
              "1           1  facebook_corpus_msr_2111297   \n",
              "2           2  facebook_corpus_msr_1450799   \n",
              "3           3   facebook_corpus_msr_956362   \n",
              "4           4  facebook_corpus_msr_1972724   \n",
              "\n",
              "                                                text Aggression  \\\n",
              "0   Shaikh Bhai.. Subha Kab Ki Ho gyi Hai.... Man...        OAG   \n",
              "1  No India is better off in BJPs hands but it is...        OAG   \n",
              "2  madam ji Sonia ganghi jeetegi tabhi to banegi ...        OAG   \n",
              "3   Now i really belive 5vi pass pm ki degree nak...        CAG   \n",
              "4  Reasons: 1.rahul 2. Rahul 3.rahul 4.rahil . . ...        CAG   \n",
              "\n",
              "  Aggression Intensity Discursive Role Gender Bias Communal Bias  \\\n",
              "0                 NtAG             ATK        NGEN          NCOM   \n",
              "1                 NtAG             ATK        NGEN          NCOM   \n",
              "2                 NtAG             ATK        NGEN          NCOM   \n",
              "3                 NtAG             NaN        NGEN          NCOM   \n",
              "4                 NtAG             NaN        NGEN          NCOM   \n",
              "\n",
              "  Caste/Class Bias Ethnicity/ Racial Bias  \\\n",
              "0             NCAS                   NETH   \n",
              "1             NCAS                   NETH   \n",
              "2             NCAS                   NETH   \n",
              "3             NCAS                   NETH   \n",
              "4             NCAS                   NETH   \n",
              "\n",
              "                                             refined  \n",
              "0  shaikh bhai subha kab ki ho gyi hai manipur me...  \n",
              "1  no india is better off in bjps hands but it is...  \n",
              "2  madam ji sonia ganghi jeetegi tabhi to banegi ...  \n",
              "3    now i really belive pass pm ki degree nakli hai  \n",
              "4                        reasons rahul upto infinite  "
            ],
            "text/html": [
              "\n",
              "  <div id=\"df-6a8f9928-016b-464d-8c31-b7eef0b43156\">\n",
              "    <div class=\"colab-df-container\">\n",
              "      <div>\n",
              "<style scoped>\n",
              "    .dataframe tbody tr th:only-of-type {\n",
              "        vertical-align: middle;\n",
              "    }\n",
              "\n",
              "    .dataframe tbody tr th {\n",
              "        vertical-align: top;\n",
              "    }\n",
              "\n",
              "    .dataframe thead th {\n",
              "        text-align: right;\n",
              "    }\n",
              "</style>\n",
              "<table border=\"1\" class=\"dataframe\">\n",
              "  <thead>\n",
              "    <tr style=\"text-align: right;\">\n",
              "      <th></th>\n",
              "      <th>Unnamed: 0</th>\n",
              "      <th>id</th>\n",
              "      <th>text</th>\n",
              "      <th>Aggression</th>\n",
              "      <th>Aggression Intensity</th>\n",
              "      <th>Discursive Role</th>\n",
              "      <th>Gender Bias</th>\n",
              "      <th>Communal Bias</th>\n",
              "      <th>Caste/Class Bias</th>\n",
              "      <th>Ethnicity/ Racial Bias</th>\n",
              "      <th>refined</th>\n",
              "    </tr>\n",
              "  </thead>\n",
              "  <tbody>\n",
              "    <tr>\n",
              "      <th>0</th>\n",
              "      <td>0</td>\n",
              "      <td>facebook_corpus_msr_747593</td>\n",
              "      <td>Shaikh Bhai.. Subha Kab Ki Ho gyi Hai.... Man...</td>\n",
              "      <td>OAG</td>\n",
              "      <td>NtAG</td>\n",
              "      <td>ATK</td>\n",
              "      <td>NGEN</td>\n",
              "      <td>NCOM</td>\n",
              "      <td>NCAS</td>\n",
              "      <td>NETH</td>\n",
              "      <td>shaikh bhai subha kab ki ho gyi hai manipur me...</td>\n",
              "    </tr>\n",
              "    <tr>\n",
              "      <th>1</th>\n",
              "      <td>1</td>\n",
              "      <td>facebook_corpus_msr_2111297</td>\n",
              "      <td>No India is better off in BJPs hands but it is...</td>\n",
              "      <td>OAG</td>\n",
              "      <td>NtAG</td>\n",
              "      <td>ATK</td>\n",
              "      <td>NGEN</td>\n",
              "      <td>NCOM</td>\n",
              "      <td>NCAS</td>\n",
              "      <td>NETH</td>\n",
              "      <td>no india is better off in bjps hands but it is...</td>\n",
              "    </tr>\n",
              "    <tr>\n",
              "      <th>2</th>\n",
              "      <td>2</td>\n",
              "      <td>facebook_corpus_msr_1450799</td>\n",
              "      <td>madam ji Sonia ganghi jeetegi tabhi to banegi ...</td>\n",
              "      <td>OAG</td>\n",
              "      <td>NtAG</td>\n",
              "      <td>ATK</td>\n",
              "      <td>NGEN</td>\n",
              "      <td>NCOM</td>\n",
              "      <td>NCAS</td>\n",
              "      <td>NETH</td>\n",
              "      <td>madam ji sonia ganghi jeetegi tabhi to banegi ...</td>\n",
              "    </tr>\n",
              "    <tr>\n",
              "      <th>3</th>\n",
              "      <td>3</td>\n",
              "      <td>facebook_corpus_msr_956362</td>\n",
              "      <td>Now i really belive 5vi pass pm ki degree nak...</td>\n",
              "      <td>CAG</td>\n",
              "      <td>NtAG</td>\n",
              "      <td>NaN</td>\n",
              "      <td>NGEN</td>\n",
              "      <td>NCOM</td>\n",
              "      <td>NCAS</td>\n",
              "      <td>NETH</td>\n",
              "      <td>now i really belive pass pm ki degree nakli hai</td>\n",
              "    </tr>\n",
              "    <tr>\n",
              "      <th>4</th>\n",
              "      <td>4</td>\n",
              "      <td>facebook_corpus_msr_1972724</td>\n",
              "      <td>Reasons: 1.rahul 2. Rahul 3.rahul 4.rahil . . ...</td>\n",
              "      <td>CAG</td>\n",
              "      <td>NtAG</td>\n",
              "      <td>NaN</td>\n",
              "      <td>NGEN</td>\n",
              "      <td>NCOM</td>\n",
              "      <td>NCAS</td>\n",
              "      <td>NETH</td>\n",
              "      <td>reasons rahul upto infinite</td>\n",
              "    </tr>\n",
              "  </tbody>\n",
              "</table>\n",
              "</div>\n",
              "      <button class=\"colab-df-convert\" onclick=\"convertToInteractive('df-6a8f9928-016b-464d-8c31-b7eef0b43156')\"\n",
              "              title=\"Convert this dataframe to an interactive table.\"\n",
              "              style=\"display:none;\">\n",
              "        \n",
              "  <svg xmlns=\"http://www.w3.org/2000/svg\" height=\"24px\"viewBox=\"0 0 24 24\"\n",
              "       width=\"24px\">\n",
              "    <path d=\"M0 0h24v24H0V0z\" fill=\"none\"/>\n",
              "    <path d=\"M18.56 5.44l.94 2.06.94-2.06 2.06-.94-2.06-.94-.94-2.06-.94 2.06-2.06.94zm-11 1L8.5 8.5l.94-2.06 2.06-.94-2.06-.94L8.5 2.5l-.94 2.06-2.06.94zm10 10l.94 2.06.94-2.06 2.06-.94-2.06-.94-.94-2.06-.94 2.06-2.06.94z\"/><path d=\"M17.41 7.96l-1.37-1.37c-.4-.4-.92-.59-1.43-.59-.52 0-1.04.2-1.43.59L10.3 9.45l-7.72 7.72c-.78.78-.78 2.05 0 2.83L4 21.41c.39.39.9.59 1.41.59.51 0 1.02-.2 1.41-.59l7.78-7.78 2.81-2.81c.8-.78.8-2.07 0-2.86zM5.41 20L4 18.59l7.72-7.72 1.47 1.35L5.41 20z\"/>\n",
              "  </svg>\n",
              "      </button>\n",
              "      \n",
              "  <style>\n",
              "    .colab-df-container {\n",
              "      display:flex;\n",
              "      flex-wrap:wrap;\n",
              "      gap: 12px;\n",
              "    }\n",
              "\n",
              "    .colab-df-convert {\n",
              "      background-color: #E8F0FE;\n",
              "      border: none;\n",
              "      border-radius: 50%;\n",
              "      cursor: pointer;\n",
              "      display: none;\n",
              "      fill: #1967D2;\n",
              "      height: 32px;\n",
              "      padding: 0 0 0 0;\n",
              "      width: 32px;\n",
              "    }\n",
              "\n",
              "    .colab-df-convert:hover {\n",
              "      background-color: #E2EBFA;\n",
              "      box-shadow: 0px 1px 2px rgba(60, 64, 67, 0.3), 0px 1px 3px 1px rgba(60, 64, 67, 0.15);\n",
              "      fill: #174EA6;\n",
              "    }\n",
              "\n",
              "    [theme=dark] .colab-df-convert {\n",
              "      background-color: #3B4455;\n",
              "      fill: #D2E3FC;\n",
              "    }\n",
              "\n",
              "    [theme=dark] .colab-df-convert:hover {\n",
              "      background-color: #434B5C;\n",
              "      box-shadow: 0px 1px 3px 1px rgba(0, 0, 0, 0.15);\n",
              "      filter: drop-shadow(0px 1px 2px rgba(0, 0, 0, 0.3));\n",
              "      fill: #FFFFFF;\n",
              "    }\n",
              "  </style>\n",
              "\n",
              "      <script>\n",
              "        const buttonEl =\n",
              "          document.querySelector('#df-6a8f9928-016b-464d-8c31-b7eef0b43156 button.colab-df-convert');\n",
              "        buttonEl.style.display =\n",
              "          google.colab.kernel.accessAllowed ? 'block' : 'none';\n",
              "\n",
              "        async function convertToInteractive(key) {\n",
              "          const element = document.querySelector('#df-6a8f9928-016b-464d-8c31-b7eef0b43156');\n",
              "          const dataTable =\n",
              "            await google.colab.kernel.invokeFunction('convertToInteractive',\n",
              "                                                     [key], {});\n",
              "          if (!dataTable) return;\n",
              "\n",
              "          const docLinkHtml = 'Like what you see? Visit the ' +\n",
              "            '<a target=\"_blank\" href=https://colab.research.google.com/notebooks/data_table.ipynb>data table notebook</a>'\n",
              "            + ' to learn more about interactive tables.';\n",
              "          element.innerHTML = '';\n",
              "          dataTable['output_type'] = 'display_data';\n",
              "          await google.colab.output.renderOutput(dataTable, element);\n",
              "          const docLink = document.createElement('div');\n",
              "          docLink.innerHTML = docLinkHtml;\n",
              "          element.appendChild(docLink);\n",
              "        }\n",
              "      </script>\n",
              "    </div>\n",
              "  </div>\n",
              "  "
            ]
          },
          "metadata": {},
          "execution_count": 20
        }
      ]
    },
    {
      "cell_type": "code",
      "source": [
        "save_sentences_to_file(combined_df[\"refined\"].to_list(),\"hinglish_sentences.txt\")"
      ],
      "metadata": {
        "id": "OZaCVsY00bqG"
      },
      "execution_count": null,
      "outputs": []
    },
    {
      "cell_type": "code",
      "source": [
        "# import numpy as np\n",
        "\n",
        "# english_vectors_file = \"english_vectors.vec\"\n",
        "# with open(english_vectors_file, \"w\", encoding=\"utf-8\") as f:\n",
        "#     for word in model.words:\n",
        "#         vector = model.get_word_vector(word)\n",
        "#         vector_str = \" \".join(str(x) for x in vector)\n",
        "#         line = f\"{word} {vector_str}\\n\"\n",
        "#         f.write(line)"
      ],
      "metadata": {
        "id": "VhsKfq5_3qHT"
      },
      "execution_count": null,
      "outputs": []
    },
    {
      "cell_type": "code",
      "source": [
        "hinglish_corpus = \"/content/hinglish_sentences.txt\"\n",
        "eng_file = \"/content/english_embeddings.bin\"\n",
        "\n",
        "# english_model = fasttext.load_model(\"english_embeddings.bin\")\n",
        "\n",
        "# Create a new FastText model\n",
        "hinglish_model = fasttext.train_unsupervised(\n",
        "    hinglish_corpus,\n",
        "    dim=300,  # Adjust the dimensionality as needed\n",
        "    epoch=10\n",
        ")\n",
        "\n",
        "\n",
        "\n"
      ],
      "metadata": {
        "id": "v22EBKKl0tKI"
      },
      "execution_count": null,
      "outputs": []
    },
    {
      "cell_type": "code",
      "source": [
        "hinglish_model.get_nearest_neighbors('namaste')\n",
        "# hinglish_model.get_analogies(\"India\",\"USA\",\"Russia\")"
      ],
      "metadata": {
        "colab": {
          "base_uri": "https://localhost:8080/"
        },
        "id": "XFRNgD-f7I1c",
        "outputId": "54916d5e-1568-4dfe-9b16-b2d77bf9ed9a"
      },
      "execution_count": null,
      "outputs": [
        {
          "output_type": "execute_result",
          "data": {
            "text/plain": [
              "[(0.8782214522361755, 'namste'),\n",
              " (0.6415764689445496, '🤨🤨'),\n",
              " (0.6411495804786682, 'namak'),\n",
              " (0.6408529281616211, 'taste'),\n",
              " (0.6241011023521423, 'trumph'),\n",
              " (0.6177101135253906, 'raste'),\n",
              " (0.6141558289527893, 'nama'),\n",
              " (0.603705108165741, 'jite'),\n",
              " (0.5952069163322449, 'namaj'),\n",
              " (0.5917879343032837, 'namo')]"
            ]
          },
          "metadata": {},
          "execution_count": 26
        }
      ]
    },
    {
      "cell_type": "code",
      "source": [
        "!kaggle datasets download -d kazanova/sentiment140"
      ],
      "metadata": {
        "colab": {
          "base_uri": "https://localhost:8080/"
        },
        "id": "iD0i7NJ-9dYX",
        "outputId": "0e6160fb-ce43-4bf0-cda5-ae2a68b0dc65"
      },
      "execution_count": null,
      "outputs": [
        {
          "output_type": "stream",
          "name": "stdout",
          "text": [
            "Downloading sentiment140.zip to /content\n",
            " 72% 58.0M/80.9M [00:00<00:00, 187MB/s]\n",
            "100% 80.9M/80.9M [00:00<00:00, 208MB/s]\n"
          ]
        }
      ]
    },
    {
      "cell_type": "code",
      "source": [
        "!unzip sentiment140.zip"
      ],
      "metadata": {
        "colab": {
          "base_uri": "https://localhost:8080/"
        },
        "id": "DbAwGR4B_k7V",
        "outputId": "66772d07-274c-4935-b1cb-28d3aee28dce"
      },
      "execution_count": null,
      "outputs": [
        {
          "output_type": "stream",
          "name": "stdout",
          "text": [
            "Archive:  sentiment140.zip\n",
            "  inflating: training.1600000.processed.noemoticon.csv  \n"
          ]
        }
      ]
    },
    {
      "cell_type": "code",
      "source": [
        "df3 = pd.read_csv(\"training.1600000.processed.noemoticon.csv\",encoding='latin-1')"
      ],
      "metadata": {
        "id": "sizj9m1W_uhH"
      },
      "execution_count": null,
      "outputs": []
    },
    {
      "cell_type": "code",
      "source": [
        "df3.columns"
      ],
      "metadata": {
        "colab": {
          "base_uri": "https://localhost:8080/"
        },
        "id": "dvg04-Mm_8Xk",
        "outputId": "e4703c4f-2c48-4da8-db0d-0fd83c4c49b7"
      },
      "execution_count": null,
      "outputs": [
        {
          "output_type": "execute_result",
          "data": {
            "text/plain": [
              "Index(['0', '1467810369', 'Mon Apr 06 22:19:45 PDT 2009', 'NO_QUERY',\n",
              "       '_TheSpecialOne_',\n",
              "       '@switchfoot http://twitpic.com/2y1zl - Awww, that's a bummer.  You shoulda got David Carr of Third Day to do it. ;D'],\n",
              "      dtype='object')"
            ]
          },
          "metadata": {},
          "execution_count": 30
        }
      ]
    },
    {
      "cell_type": "code",
      "source": [
        "Lf = Processor(df3[\"@switchfoot http://twitpic.com/2y1zl - Awww, that's a bummer.  You shoulda got David Carr of Third Day to do it. ;D\"].to_list()).process()"
      ],
      "metadata": {
        "id": "epDJ-qJB_pKn"
      },
      "execution_count": null,
      "outputs": []
    },
    {
      "cell_type": "code",
      "source": [
        "def save_sentences_to_file(sentences, file_path):\n",
        "    with open(file_path, 'w', encoding='utf-8') as file:\n",
        "        for sentence in sentences:\n",
        "            file.write(str(sentence) + '\\n')"
      ],
      "metadata": {
        "id": "-Jp4ZYcTALjr"
      },
      "execution_count": null,
      "outputs": []
    },
    {
      "cell_type": "code",
      "source": [
        "save_sentences_to_file(Lf[:100000],\"english_sentences1.txt\")"
      ],
      "metadata": {
        "id": "18oM26UzAVYV"
      },
      "execution_count": null,
      "outputs": []
    },
    {
      "cell_type": "code",
      "source": [
        "def train_embeddings(language, input_file, output_file):\n",
        "    model = fasttext.train_unsupervised(input=input_file, model='skipgram',dim=300)\n",
        "    model.save_model(output_file)"
      ],
      "metadata": {
        "id": "oYIQJN8AC9W6"
      },
      "execution_count": null,
      "outputs": []
    },
    {
      "cell_type": "code",
      "source": [
        "train_embeddings('english', 'english_sentences1.txt', 'english_embeddings1.bin')"
      ],
      "metadata": {
        "id": "zPA7dg8ZAluP"
      },
      "execution_count": null,
      "outputs": []
    },
    {
      "cell_type": "code",
      "source": [
        "model_test =fasttext.load_model('english_embeddings1.bin')"
      ],
      "metadata": {
        "colab": {
          "base_uri": "https://localhost:8080/"
        },
        "id": "hMOQDiOWCmF0",
        "outputId": "79a5d809-b009-47b5-b02f-7df420804710"
      },
      "execution_count": null,
      "outputs": [
        {
          "output_type": "stream",
          "name": "stderr",
          "text": [
            "Warning : `load_model` does not return WordVectorModel or SupervisedModel any more, but a `FastText` object which is very similar.\n"
          ]
        }
      ]
    },
    {
      "cell_type": "code",
      "source": [
        "model_test.get_nearest_neighbors(\"hello\")"
      ],
      "metadata": {
        "colab": {
          "base_uri": "https://localhost:8080/"
        },
        "id": "YBDIbzRKGnlL",
        "outputId": "5a7e5b74-dc38-4932-e1e9-7f807f018511"
      },
      "execution_count": null,
      "outputs": [
        {
          "output_type": "execute_result",
          "data": {
            "text/plain": [
              "[(0.9377654194831848, 'helloo'),\n",
              " (0.814643919467926, 'hellivina'),\n",
              " (0.8059364557266235, 'hella'),\n",
              " (0.8031098246574402, 'welcome'),\n",
              " (0.7978597283363342, 'welcomed'),\n",
              " (0.7911489605903625, 'iamdiddy'),\n",
              " (0.7900818586349487, 'jello'),\n",
              " (0.7780429720878601, 'hollywoodtrey'),\n",
              " (0.7779256105422974, 'lovebscott'),\n",
              " (0.7759992480278015, 'emm')]"
            ]
          },
          "metadata": {},
          "execution_count": 43
        }
      ]
    },
    {
      "cell_type": "code",
      "source": [
        "model_test.get_analogies(\"house\",\"apartment\",\"building\")"
      ],
      "metadata": {
        "colab": {
          "base_uri": "https://localhost:8080/"
        },
        "id": "vXyrL68fGuhY",
        "outputId": "e76fdabc-e213-4bc7-f066-16b36450b84f"
      },
      "execution_count": null,
      "outputs": [
        {
          "output_type": "execute_result",
          "data": {
            "text/plain": [
              "[(0.7341111302375793, 'household'),\n",
              " (0.6840641498565674, 'warehouse'),\n",
              " (0.6803001165390015, 'bu'),\n",
              " (0.6749755144119263, 'cleaned'),\n",
              " (0.667015016078949, 'houses'),\n",
              " (0.6649080514907837, 'hundred'),\n",
              " (0.6641660928726196, 'cabinet'),\n",
              " (0.6613180041313171, 'syracuse'),\n",
              " (0.6590073704719543, 'budget'),\n",
              " (0.6574659943580627, 'squad')]"
            ]
          },
          "metadata": {},
          "execution_count": 38
        }
      ]
    },
    {
      "cell_type": "code",
      "source": [
        "hinglish_model.save_model(\"hinglish_embeddings1.bin\")"
      ],
      "metadata": {
        "id": "OO9Tv8QSHk_T"
      },
      "execution_count": null,
      "outputs": []
    },
    {
      "cell_type": "code",
      "source": [
        "pretrained_dimension = model_test.get_dimension()\n",
        "print(\"Pretrained Embeddings Dimension:\", pretrained_dimension)"
      ],
      "metadata": {
        "colab": {
          "base_uri": "https://localhost:8080/"
        },
        "id": "5qTdWEuENzV0",
        "outputId": "53dd26b0-ddb8-4924-8bae-617580fbb7b5"
      },
      "execution_count": null,
      "outputs": [
        {
          "output_type": "stream",
          "name": "stdout",
          "text": [
            "Pretrained Embeddings Dimension: 300\n"
          ]
        }
      ]
    },
    {
      "cell_type": "code",
      "source": [
        "import fasttext\n",
        "\n",
        "pretrained_model_path = 'english_embeddings1.bin'\n",
        "output_file_path = 'english_vectors.txt'\n",
        "\n",
        "model = fasttext.load_model(pretrained_model_path)\n",
        "words = model.get_words()\n",
        "\n",
        "with open(output_file_path, 'w', encoding='utf-8') as output_file:\n",
        "    for word in words:\n",
        "        vector = model.get_word_vector(word)\n",
        "        vector_str = ' '.join(str(val) for val in vector)\n",
        "        output_file.write(f\"{word} {vector_str}\\n\")\n"
      ],
      "metadata": {
        "colab": {
          "base_uri": "https://localhost:8080/"
        },
        "id": "FxDCc9FSSJqw",
        "outputId": "437596d9-5155-43b0-ae00-1af26b3672c0"
      },
      "execution_count": null,
      "outputs": [
        {
          "output_type": "stream",
          "name": "stderr",
          "text": [
            "Warning : `load_model` does not return WordVectorModel or SupervisedModel any more, but a `FastText` object which is very similar.\n"
          ]
        }
      ]
    },
    {
      "cell_type": "code",
      "source": [
        "# import fasttext\n",
        "# hinglish_corpus = \"/content/hinglish_sentences.txt\"\n",
        "# # Step 1: Convert pre-trained FastText binary model to text format\n",
        "# pretrained_model_path = 'english_embeddings1.bin'\n",
        "# text_format_model_path = 'english_vectors_model.bin'\n",
        "\n",
        "# model = fasttext.load_model(pretrained_model_path)\n",
        "# model.save_model(text_format_model_path, ft_format=\"vectors\")\n",
        "\n",
        "# # Step 2: Train the Hinglish model using the text format model\n",
        "# # hinglish_corpus = 'hinglish_corpus.txt'\n",
        "# hinglish_model = fasttext.train_unsupervised(\n",
        "#     hinglish_corpus,\n",
        "#     pretrained_vectors=text_format_model_path,\n",
        "#     dim=300,  # Adjust the dimensionality as needed\n",
        "#     epoch=10\n",
        "# )\n",
        "\n",
        "# # Step 3: Save the Hinglish model\n",
        "# # hinglish_model.save_model('hinglish_model.bin')"
      ],
      "metadata": {
        "colab": {
          "base_uri": "https://localhost:8080/",
          "height": 273
        },
        "id": "-IMifboJP68s",
        "outputId": "b9c1b7b3-3a85-408b-a309-afc800893983"
      },
      "execution_count": null,
      "outputs": [
        {
          "output_type": "stream",
          "name": "stderr",
          "text": [
            "Warning : `load_model` does not return WordVectorModel or SupervisedModel any more, but a `FastText` object which is very similar.\n"
          ]
        },
        {
          "output_type": "error",
          "ename": "TypeError",
          "evalue": "ignored",
          "traceback": [
            "\u001b[0;31m---------------------------------------------------------------------------\u001b[0m",
            "\u001b[0;31mTypeError\u001b[0m                                 Traceback (most recent call last)",
            "\u001b[0;32m<ipython-input-1-918601683ee5>\u001b[0m in \u001b[0;36m<cell line: 8>\u001b[0;34m()\u001b[0m\n\u001b[1;32m      6\u001b[0m \u001b[0;34m\u001b[0m\u001b[0m\n\u001b[1;32m      7\u001b[0m \u001b[0mmodel\u001b[0m \u001b[0;34m=\u001b[0m \u001b[0mfasttext\u001b[0m\u001b[0;34m.\u001b[0m\u001b[0mload_model\u001b[0m\u001b[0;34m(\u001b[0m\u001b[0mpretrained_model_path\u001b[0m\u001b[0;34m)\u001b[0m\u001b[0;34m\u001b[0m\u001b[0;34m\u001b[0m\u001b[0m\n\u001b[0;32m----> 8\u001b[0;31m \u001b[0mmodel\u001b[0m\u001b[0;34m.\u001b[0m\u001b[0msave_model\u001b[0m\u001b[0;34m(\u001b[0m\u001b[0mtext_format_model_path\u001b[0m\u001b[0;34m,\u001b[0m \u001b[0mft_format\u001b[0m\u001b[0;34m=\u001b[0m\u001b[0;34m\"vectors\"\u001b[0m\u001b[0;34m)\u001b[0m\u001b[0;34m\u001b[0m\u001b[0;34m\u001b[0m\u001b[0m\n\u001b[0m\u001b[1;32m      9\u001b[0m \u001b[0;34m\u001b[0m\u001b[0m\n\u001b[1;32m     10\u001b[0m \u001b[0;31m# Step 2: Train the Hinglish model using the text format model\u001b[0m\u001b[0;34m\u001b[0m\u001b[0;34m\u001b[0m\u001b[0m\n",
            "\u001b[0;31mTypeError\u001b[0m: _FastText.save_model() got an unexpected keyword argument 'ft_format'"
          ]
        }
      ]
    },
    {
      "cell_type": "code",
      "source": [
        "import fasttext\n",
        "\n",
        "# Load the FastText binary model\n",
        "fasttext_model_path = 'english_embeddings1.bin'\n",
        "model = fasttext.load_model(fasttext_model_path)\n",
        "\n",
        "# Save the FastText embeddings in .vec format\n",
        "vec_file_path = 'en.vec'\n",
        "model.save_model(vec_file_path)\n"
      ],
      "metadata": {
        "colab": {
          "base_uri": "https://localhost:8080/"
        },
        "id": "0OK7j9-nRPd2",
        "outputId": "c987717d-da17-4e93-a92e-d6077cdf28c9"
      },
      "execution_count": null,
      "outputs": [
        {
          "output_type": "stream",
          "name": "stderr",
          "text": [
            "Warning : `load_model` does not return WordVectorModel or SupervisedModel any more, but a `FastText` object which is very similar.\n"
          ]
        }
      ]
    },
    {
      "cell_type": "code",
      "source": [
        "import fasttext\n",
        "\n",
        "# Load the FastText binary model\n",
        "fasttext_model_path = 'hinglish_embeddings1.bin'\n",
        "model = fasttext.load_model(fasttext_model_path)\n",
        "\n",
        "# Save the FastText embeddings in .vec format\n",
        "vec_file_path = 'hi.vec'\n",
        "model.save_model(vec_file_path)\n"
      ],
      "metadata": {
        "colab": {
          "base_uri": "https://localhost:8080/"
        },
        "id": "1vUOzx87WXOO",
        "outputId": "ef570333-ad37-4e32-8eea-63dbf78f9e88"
      },
      "execution_count": null,
      "outputs": [
        {
          "output_type": "stream",
          "name": "stderr",
          "text": [
            "Warning : `load_model` does not return WordVectorModel or SupervisedModel any more, but a `FastText` object which is very similar.\n"
          ]
        }
      ]
    },
    {
      "cell_type": "code",
      "source": [
        "import fasttext\n",
        "\n",
        "# Load the FastText model in .vec format\n",
        "vec_file_path = 'en.vec'\n",
        "model = fasttext.load_model(vec_file_path)\n",
        "\n",
        "# Save the FastText embeddings in the traditional Word2Vec text format\n",
        "word2vec_text_format_path = 'en.txt'\n",
        "model.save_model(word2vec_text_format_path)\n"
      ],
      "metadata": {
        "colab": {
          "base_uri": "https://localhost:8080/",
          "height": 239
        },
        "id": "ERi0mBkYWoRl",
        "outputId": "9920efcd-5150-4680-e180-47595a505454"
      },
      "execution_count": null,
      "outputs": [
        {
          "output_type": "stream",
          "name": "stderr",
          "text": [
            "Warning : `load_model` does not return WordVectorModel or SupervisedModel any more, but a `FastText` object which is very similar.\n"
          ]
        },
        {
          "output_type": "error",
          "ename": "TypeError",
          "evalue": "ignored",
          "traceback": [
            "\u001b[0;31m---------------------------------------------------------------------------\u001b[0m",
            "\u001b[0;31mTypeError\u001b[0m                                 Traceback (most recent call last)",
            "\u001b[0;32m<ipython-input-5-8ee093c3b24e>\u001b[0m in \u001b[0;36m<cell line: 9>\u001b[0;34m()\u001b[0m\n\u001b[1;32m      7\u001b[0m \u001b[0;31m# Save the FastText embeddings in the traditional Word2Vec text format\u001b[0m\u001b[0;34m\u001b[0m\u001b[0;34m\u001b[0m\u001b[0m\n\u001b[1;32m      8\u001b[0m \u001b[0mword2vec_text_format_path\u001b[0m \u001b[0;34m=\u001b[0m \u001b[0;34m'en.txt'\u001b[0m\u001b[0;34m\u001b[0m\u001b[0;34m\u001b[0m\u001b[0m\n\u001b[0;32m----> 9\u001b[0;31m \u001b[0mmodel\u001b[0m\u001b[0;34m.\u001b[0m\u001b[0msave_model\u001b[0m\u001b[0;34m(\u001b[0m\u001b[0mword2vec_text_format_path\u001b[0m\u001b[0;34m,\u001b[0m \u001b[0;34m\"word2vec\"\u001b[0m\u001b[0;34m)\u001b[0m\u001b[0;34m\u001b[0m\u001b[0;34m\u001b[0m\u001b[0m\n\u001b[0m",
            "\u001b[0;31mTypeError\u001b[0m: _FastText.save_model() takes 2 positional arguments but 3 were given"
          ]
        }
      ]
    },
    {
      "cell_type": "code",
      "source": [
        "word2vec_text_format_path = 'en.txt'\n",
        "model.save_model(word2vec_text_format_path)"
      ],
      "metadata": {
        "id": "452-U7FzcJAm"
      },
      "execution_count": null,
      "outputs": []
    },
    {
      "cell_type": "code",
      "source": [],
      "metadata": {
        "id": "vI1J_y7JkGbl"
      },
      "execution_count": null,
      "outputs": []
    },
    {
      "cell_type": "code",
      "source": [
        "vec_file_path = 'hi.vec'\n",
        "model = fasttext.load_model(vec_file_path)\n",
        "\n",
        "# Save the FastText embeddings in the traditional Word2Vec text format\n",
        "word2vec_text_format_path = 'hi.txt'\n",
        "model.save_model(word2vec_text_format_path)"
      ],
      "metadata": {
        "colab": {
          "base_uri": "https://localhost:8080/"
        },
        "id": "EhaKH_W3cQFM",
        "outputId": "bf2ef7fc-0e3d-44f3-d359-9e8287081a5e"
      },
      "execution_count": null,
      "outputs": [
        {
          "output_type": "stream",
          "name": "stderr",
          "text": [
            "Warning : `load_model` does not return WordVectorModel or SupervisedModel any more, but a `FastText` object which is very similar.\n"
          ]
        }
      ]
    },
    {
      "cell_type": "code",
      "source": [
        "from gensim.models import FastText\n",
        "from gensim.utils import simple_preprocess\n",
        "from gensim.test.utils import get_tmpfile\n"
      ],
      "metadata": {
        "id": "ahrnvhb4cYDb"
      },
      "execution_count": null,
      "outputs": []
    },
    {
      "cell_type": "code",
      "source": [
        "model = FastText(vector_size=300, window=5, min_count=5, workers=4)\n"
      ],
      "metadata": {
        "id": "v48m8gIXxiih"
      },
      "execution_count": null,
      "outputs": []
    },
    {
      "cell_type": "code",
      "source": [
        "def read_corpus(filename):\n",
        "    with open(filename, 'r', encoding='utf-8') as file:\n",
        "        for line in file:\n",
        "            yield simple_preprocess(line)\n"
      ],
      "metadata": {
        "id": "_JI_TP4nx7Qy"
      },
      "execution_count": null,
      "outputs": []
    },
    {
      "cell_type": "code",
      "source": [
        "model.build_vocab(corpus_file='english_sentences1.txt')\n",
        "total_words = model.corpus_total_words\n",
        "model.train(corpus_file='english_sentences1.txt', total_words=total_words, epochs=10)\n"
      ],
      "metadata": {
        "colab": {
          "base_uri": "https://localhost:8080/"
        },
        "id": "a4Yzd7Kvxp2w",
        "outputId": "fe62aa12-e4c9-4085-db19-d07a77d5eb99"
      },
      "execution_count": null,
      "outputs": [
        {
          "output_type": "execute_result",
          "data": {
            "text/plain": [
              "(9292577, 13199070)"
            ]
          },
          "metadata": {},
          "execution_count": 80
        }
      ]
    },
    {
      "cell_type": "code",
      "source": [
        "model.save(\"en1.vec\")\n",
        "model.wv.save_word2vec_format('en2.bin')"
      ],
      "metadata": {
        "id": "nj3fblDpyJly"
      },
      "execution_count": null,
      "outputs": []
    },
    {
      "cell_type": "code",
      "source": [
        "model.build_vocab(corpus_file='hinglish_sentences.txt',update=True)"
      ],
      "metadata": {
        "id": "hsxCk42qy_Vd"
      },
      "execution_count": null,
      "outputs": []
    },
    {
      "cell_type": "code",
      "source": [
        "new_ten = model.corpus_total_words\n",
        "print((total_words,new_ten))"
      ],
      "metadata": {
        "colab": {
          "base_uri": "https://localhost:8080/"
        },
        "id": "Xctv7gvczljC",
        "outputId": "0ad8e5b1-70ce-4a09-f19e-026fd878487b"
      },
      "execution_count": null,
      "outputs": [
        {
          "output_type": "stream",
          "name": "stdout",
          "text": [
            "(1311134, 469413)\n"
          ]
        }
      ]
    },
    {
      "cell_type": "code",
      "source": [
        "model.train(corpus_file='hinglish_sentences.txt', total_words=int(1311134-469413), epochs=10)"
      ],
      "metadata": {
        "colab": {
          "base_uri": "https://localhost:8080/"
        },
        "id": "DkUtPBiHzYnr",
        "outputId": "0e3fd608-3bfe-4bc9-9860-5c9df2780e97"
      },
      "execution_count": null,
      "outputs": [
        {
          "output_type": "execute_result",
          "data": {
            "text/plain": [
              "(5899932, 7658500)"
            ]
          },
          "metadata": {},
          "execution_count": 84
        }
      ]
    },
    {
      "cell_type": "code",
      "source": [
        "model.wv.most_similar(\"kutta\")"
      ],
      "metadata": {
        "colab": {
          "base_uri": "https://localhost:8080/"
        },
        "id": "sPHuGVkoz6Zx",
        "outputId": "61215640-aa1e-4d81-cda4-f5b1982e96a2"
      },
      "execution_count": null,
      "outputs": [
        {
          "output_type": "execute_result",
          "data": {
            "text/plain": [
              "[('kuta', 0.8874878287315369),\n",
              " ('dutta', 0.828890860080719),\n",
              " ('kutto', 0.797985851764679),\n",
              " ('ptta', 0.7546012997627258),\n",
              " ('kutaa', 0.7326545119285583),\n",
              " ('kurta', 0.7244449257850647),\n",
              " ('kutti', 0.7206964492797852),\n",
              " ('kuto', 0.7187777161598206),\n",
              " ('gta', 0.715463399887085),\n",
              " ('bnta', 0.7123579978942871)]"
            ]
          },
          "metadata": {},
          "execution_count": 85
        }
      ]
    },
    {
      "cell_type": "code",
      "source": [
        "from sklearn.metrics.pairwise import cosine_similarity"
      ],
      "metadata": {
        "id": "RSbQsW8u0h0e"
      },
      "execution_count": null,
      "outputs": []
    },
    {
      "cell_type": "code",
      "source": [
        "print(model.wv[\"cat\"])"
      ],
      "metadata": {
        "id": "YS1mhpFc1Cny",
        "colab": {
          "base_uri": "https://localhost:8080/"
        },
        "outputId": "57280ef2-ebbe-4cb9-af4e-6ac937e6a18e"
      },
      "execution_count": null,
      "outputs": [
        {
          "output_type": "stream",
          "name": "stdout",
          "text": [
            "[-1.22413659e+00  7.87053781e-04  2.53562033e-01  4.06382382e-01\n",
            "  4.42450136e-01 -3.48980695e-01 -2.11276874e-01 -2.33722374e-01\n",
            "  2.90653378e-01  4.80590820e-01  5.03670983e-02 -1.34551167e+00\n",
            "  6.90992475e-01  3.58081341e-01 -3.44301850e-01  2.81448364e-01\n",
            "  5.29660642e-01 -3.21456715e-02  8.56540024e-01 -8.02800715e-01\n",
            "  1.76306915e+00 -5.68041325e-01  5.48489392e-01  1.71619445e-01\n",
            " -2.50730729e+00 -1.04635799e+00  5.57624936e-01 -1.19473147e+00\n",
            " -1.49312317e+00  4.29821730e-01  1.22461414e+00  4.97484058e-01\n",
            "  4.47150439e-01 -1.19516861e+00 -2.17410088e-01 -1.67570993e-01\n",
            "  5.00277638e-01 -4.23618942e-01 -9.27585423e-01 -6.68963552e-01\n",
            " -3.12783793e-02  4.41698402e-01  3.40262264e-01  8.28623399e-02\n",
            " -1.65462089e+00  2.01546836e+00  1.00473844e-01  8.43908114e-04\n",
            " -3.26051563e-01 -4.50016588e-01  9.08124030e-01  4.56947744e-01\n",
            " -1.45320863e-01 -3.84270906e-01  2.09032089e-01 -1.59522378e+00\n",
            "  4.14931238e-01 -7.14612663e-01 -4.15295422e-01  6.76241696e-01\n",
            " -6.94460213e-01  1.55971634e+00  4.43954170e-01 -3.75823408e-01\n",
            "  1.56205893e-01  9.47821081e-01  3.53411525e-01 -6.80823624e-01\n",
            " -2.14810610e-01  6.01413786e-01 -9.12444945e-03  1.07504570e+00\n",
            " -5.93546450e-01 -3.89033318e-01  2.19368219e+00  1.50814331e+00\n",
            " -5.89280963e-01  2.58189768e-01  1.26984489e+00 -7.42984354e-01\n",
            "  1.03447950e-02 -3.25166553e-01 -1.58141881e-01 -4.82363224e-01\n",
            " -4.03725766e-02  3.07972101e-03  1.27827853e-01  1.59179822e-01\n",
            " -1.87906876e-01 -1.34735322e+00 -2.28886269e-02  1.20139204e-01\n",
            " -2.92845041e-01  5.41942060e-01 -5.28399289e-01  6.41287625e-01\n",
            " -7.12314725e-01  1.16675949e+00  4.94295210e-01 -1.00281560e+00\n",
            " -8.56046617e-01  1.26664087e-01  2.41688654e-01  6.38938010e-01\n",
            "  5.84496677e-01 -7.75413990e-01  5.50209343e-01 -1.80198550e-01\n",
            "  3.78806114e-01  5.50521672e-01 -3.32388490e-01 -5.91067731e-01\n",
            " -1.18755542e-01  4.51835692e-01 -5.99504590e-01 -1.42965972e+00\n",
            "  1.07337165e+00 -1.01473927e+00 -2.08286428e+00 -1.13139346e-01\n",
            "  1.37279645e-01  4.50651497e-01 -1.07250488e+00 -3.30277920e-01\n",
            "  1.73796996e-01 -6.27328992e-01 -4.80962515e-01 -1.69194722e+00\n",
            "  1.70617867e+00  3.18996519e-01  8.58457908e-02  6.58724129e-01\n",
            " -6.46210074e-01  1.25449824e+00  6.30394638e-01 -1.02760896e-01\n",
            "  8.92879009e-01 -1.90903053e-01 -3.62250656e-01 -1.41672599e+00\n",
            "  1.90986261e-01 -3.72563213e-01 -1.62396049e+00 -1.11961901e+00\n",
            " -7.73875296e-01  1.19712257e+00  5.86185813e-01 -1.28389943e+00\n",
            " -9.38636903e-03 -5.93854129e-01 -9.25567508e-01 -6.26829803e-01\n",
            "  1.50258088e+00 -6.69505537e-01  9.50276494e-01  8.79011750e-02\n",
            "  1.17695164e-02 -1.58399612e-01  1.03168225e+00  3.52924436e-01\n",
            " -8.92278492e-01  1.59097600e+00 -3.71770352e-01 -9.40452293e-02\n",
            " -8.59866619e-01  1.34623992e+00 -3.29082221e-01 -5.15532315e-01\n",
            "  3.19967121e-01  1.26809621e+00 -7.21595466e-01  1.61182868e+00\n",
            " -4.09812301e-01  2.14475679e+00  1.39134272e-03 -1.28167260e+00\n",
            "  2.59661525e-01  1.09875810e+00  2.54600334e+00  8.15264583e-01\n",
            "  1.00922024e+00 -6.70252508e-03 -4.40219134e-01 -9.69793737e-01\n",
            "  1.15548730e+00  2.23631486e-01  1.25808537e+00 -1.02199101e+00\n",
            " -1.46010563e-01  1.54316711e+00  2.10385799e-01  4.75183994e-01\n",
            " -3.91049325e-01  1.41151989e+00 -1.09434187e+00 -8.95752311e-01\n",
            " -1.19426060e+00 -1.03241682e-01  4.88184661e-01 -6.34077430e-01\n",
            "  1.18989125e-01 -9.69316423e-01 -6.53686345e-01  6.07030056e-02\n",
            "  3.39696378e-01 -6.66561246e-01  3.55095804e-01  8.43806565e-01\n",
            " -4.09438878e-01  8.79078209e-01  4.51498240e-01 -2.23886564e-01\n",
            " -8.85757923e-01 -1.10235825e-01 -1.02960169e+00  5.75540602e-01\n",
            " -1.42670310e+00  6.46009624e-01 -4.86498594e-01 -8.09855580e-01\n",
            " -1.80378222e+00 -9.96197045e-01  9.80810940e-01  1.56132448e+00\n",
            " -7.99209058e-01 -6.99207246e-01  3.05463821e-01 -2.74071932e-01\n",
            "  1.83128858e+00  7.24658668e-01 -3.55558187e-01  1.60312474e+00\n",
            "  9.40798163e-01 -1.74748266e+00 -3.36557388e-01 -9.60850716e-01\n",
            " -5.21257341e-01 -1.44077599e+00 -2.70928890e-01  9.24039960e-01\n",
            "  9.20289040e-01 -7.13644028e-02  4.30916786e-01  5.42389452e-01\n",
            " -2.80879319e-01 -6.06026232e-01  2.32935771e-01  1.19673264e+00\n",
            "  3.58664036e-01 -9.63849545e-01 -3.27911042e-02 -2.17204645e-01\n",
            "  3.10289502e+00 -1.28382707e+00  2.32741863e-01 -1.52930140e+00\n",
            " -1.09317970e+00 -1.71665597e+00 -1.86606811e-03 -2.23810360e-01\n",
            " -5.89747488e-01  5.81458628e-01  1.25987256e+00 -2.18608364e-01\n",
            "  1.04669952e+00  2.53918976e-01  2.79677778e-01 -5.34412205e-01\n",
            " -8.48264471e-02  2.18653321e-01 -1.52584136e+00 -5.69855161e-02\n",
            "  5.57768941e-01 -5.06766438e-01 -4.07811552e-01  9.40119475e-02\n",
            " -2.61156023e-01 -9.51612353e-01  5.78145623e-01  4.85473633e-01\n",
            " -4.69557911e-01  4.48839813e-01 -2.90640682e-01 -2.96465129e-01\n",
            " -9.69987750e-01 -9.33100402e-01  1.16502702e+00 -4.87558663e-01\n",
            "  1.01765347e+00  3.78082305e-01  4.79201347e-01  5.93380928e-01\n",
            "  6.75763786e-01 -1.25858998e+00  1.25416374e+00 -7.88792908e-01\n",
            " -1.68431655e-01  7.27466762e-01 -9.26406741e-01 -4.14985329e-01]\n"
          ]
        }
      ]
    },
    {
      "cell_type": "code",
      "source": [
        "print(cosine_similarity([model.wv[\"cat\"]],[model.wv[\"billi\"]]))\n",
        "print(cosine_similarity([model.wv[\"cat\"]],[model.wv[\"kutta\"]]))\n",
        "print(cosine_similarity([model.wv[\"namaste\"]],[model.wv[\"dog\"]]))"
      ],
      "metadata": {
        "colab": {
          "base_uri": "https://localhost:8080/"
        },
        "id": "L-HjC7kJ1FcM",
        "outputId": "35ead7f1-129a-42a2-8ed4-0412f8d3495e"
      },
      "execution_count": null,
      "outputs": [
        {
          "output_type": "stream",
          "name": "stdout",
          "text": [
            "[[0.19662327]]\n",
            "[[-0.14458239]]\n",
            "[[0.15767942]]\n"
          ]
        }
      ]
    },
    {
      "cell_type": "code",
      "source": [
        "model.wv.most_similar(\"kutta\")"
      ],
      "metadata": {
        "colab": {
          "base_uri": "https://localhost:8080/"
        },
        "id": "KWWksC1R1OkL",
        "outputId": "d5b537f3-0133-4cb0-fd58-79ef505eeca5"
      },
      "execution_count": null,
      "outputs": [
        {
          "output_type": "execute_result",
          "data": {
            "text/plain": [
              "[('kuta', 0.8874878287315369),\n",
              " ('dutta', 0.828890860080719),\n",
              " ('kutto', 0.797985851764679),\n",
              " ('ptta', 0.7546012997627258),\n",
              " ('kutaa', 0.7326545119285583),\n",
              " ('kurta', 0.7244449257850647),\n",
              " ('kutti', 0.7206964492797852),\n",
              " ('kuto', 0.7187777161598206),\n",
              " ('gta', 0.715463399887085),\n",
              " ('bnta', 0.7123579978942871)]"
            ]
          },
          "metadata": {},
          "execution_count": 89
        }
      ]
    },
    {
      "cell_type": "code",
      "source": [
        "model1 = FastText(vector_size=300, window=5, min_count=5, workers=4)\n"
      ],
      "metadata": {
        "id": "k2jXp0Gy2JYg"
      },
      "execution_count": null,
      "outputs": []
    },
    {
      "cell_type": "code",
      "source": [
        "model1.build_vocab(corpus_file='hinglish_sentences.txt')\n",
        "total_words = model1.corpus_total_words\n",
        "model1.train(corpus_file='hinglish_sentences.txt', total_words=total_words, epochs=10)\n"
      ],
      "metadata": {
        "colab": {
          "base_uri": "https://localhost:8080/"
        },
        "id": "bJrj67942k2q",
        "outputId": "8436e31d-ad4f-4464-fed0-b850b3cab3f8"
      },
      "execution_count": null,
      "outputs": [
        {
          "output_type": "execute_result",
          "data": {
            "text/plain": [
              "(3665606, 4818660)"
            ]
          },
          "metadata": {},
          "execution_count": 91
        }
      ]
    },
    {
      "cell_type": "code",
      "source": [
        "model1.save(\"hi1.vec\")\n",
        "model1.wv.save_word2vec_format('hi2.bin')"
      ],
      "metadata": {
        "id": "n3UVosk82vKe"
      },
      "execution_count": null,
      "outputs": []
    },
    {
      "cell_type": "code",
      "source": [
        "model.save(\"en-hi1.vec\")\n",
        "model.wv.save_word2vec_format('hien2.bin')"
      ],
      "metadata": {
        "id": "g45Ck9W32_JQ"
      },
      "execution_count": null,
      "outputs": []
    },
    {
      "cell_type": "code",
      "source": [
        "path=\"en1.vec\"\n",
        "with open(path,encoding='latin-1') as f:\n",
        "        first_line = f.readline()\n",
        "        first_line = first_line.split(' ')\n",
        "        print(first_line)"
      ],
      "metadata": {
        "colab": {
          "base_uri": "https://localhost:8080/"
        },
        "id": "dEpS9b1Y3I0A",
        "outputId": "4c66a6b7-031e-4daf-9872-2cd603dfd4ff"
      },
      "execution_count": null,
      "outputs": [
        {
          "output_type": "stream",
          "name": "stdout",
          "text": [
            "['\\x80\\x04\\x95\\x01\\x00\\x01\\x00\\x00\\x00\\x00\\x00\\x8c\\x16gensim.models.fasttext\\x94\\x8c\\x08FastText\\x94\\x93\\x94)\\x81\\x94}\\x94(\\x8c\\x04load\\x94\\x8c\\x0cgensim.utils\\x94\\x8c\\x12call_on_class_only\\x94\\x93\\x94\\x8c\\x14load_fasttext_format\\x94h\\x08\\x8c\\tcallbacks\\x94)\\x8c\\x0bword_ngrams\\x94K\\x01\\x8c\\x02wv\\x94h\\x00\\x8c\\x14FastTextKeyedVectors\\x94\\x93\\x94)\\x81\\x94}\\x94(\\x8c\\x0bvector_size\\x94M,\\x01\\x8c\\x0cindex_to_key\\x94]\\x94(\\x8c\\x01i\\x94\\x8c\\x02to\\x94\\x8c\\x03the\\x94\\x8c\\x01a\\x94\\x8c\\x02my\\x94\\x8c\\x03and\\x94\\x8c\\x02is\\x94\\x8c\\x02in\\x94\\x8c\\x02it\\x94\\x8c\\x03for\\x94\\x8c\\x02im\\x94\\x8c\\x02of\\x94\\x8c\\x03you\\x94\\x8c\\x02me\\x94\\x8c\\x02on\\x94\\x8c\\x04have\\x94\\x8c\\x02so\\x94\\x8c\\x03but\\x94\\x8c\\x03not\\x94\\x8c\\x04that\\x94\\x8c\\x02at\\x94\\x8c\\x04just\\x94\\x8c\\x03was\\x94\\x8c\\x02be\\x94\\x8c\\x03its\\x94\\x8c\\x04this\\x94\\x8c\\x02up\\x94\\x8c\\x04with\\x94\\x8c\\x03now\\x94\\x8c\\x04work\\x94\\x8c\\x02no\\x94\\x8c\\x02go\\x94\\x8c\\x03day\\x94\\x8c\\x03get\\x94\\x8c\\x03out\\x94\\x8c\\x04cant\\x94\\x8c\\x04dont\\x94\\x8c\\x03all\\x94\\x8c\\x04like\\x94\\x8c\\x03too\\x94\\x8c\\x05today\\x94\\x8c\\x04back\\x94\\x8c\\x02do\\x94\\x8c\\x05going\\x94\\x8c\\x03are\\x94\\x8c\\x03got\\x94\\x8c\\x06really\\x94\\x8c\\x04good\\x94\\x8c\\x04want\\x94\\x8c\\x02am\\x94\\x8c\\x05still\\x94\\x8c\\x03had\\x94\\x8c\\x04time\\x94\\x8c\\x04from\\x94\\x8c\\x05about\\x94\\x8c\\x04what\\x94\\x8c\\x04miss\\x94\\x8c\\x03one\\x94\\x8c\\x03sad\\x94\\x8c\\x04home\\x94\\x8c\\x04know\\x94\\x8c\\x04last\\x94\\x8c\\x05sleep\\x94\\x8c\\x04need\\x94\\x8c\\x04wish\\x94\\x8c\\x03has\\x94\\x8c\\x02we\\x94\\x8c\\x04will\\x94\\x8c\\x05night\\x94\\x8c\\x02oh\\x94\\x8c\\x04when\\x94\\x8c\\x05think\\x94\\x8c\\x08tomorrow\\x94\\x8c\\x05didnt\\x94\\x8c\\x03why\\x94\\x8c\\x04feel\\x94\\x8c\\x04some\\x94\\x8c\\x03bad\\x94\\x8c\\x04well\\x94\\x8c\\x03off\\x94\\x8c\\x04much\\x94\\x8c\\x03lol\\x94\\x8c\\x05there\\x94\\x8c\\x04your\\x94\\x8c\\x04been\\x94\\x8c\\x01u\\x94\\x8c\\x03see\\x94\\x8c\\x05sorry\\x94\\x8c\\x03how\\x94\\x8c\\x04they\\x94\\x8c\\x04more\\x94\\x8c\\x02as\\x94\\x8c\\x03can\\x94\\x8c\\x05again\\x94\\x8c\\x04here\\x94\\x8c\\x03her\\x94\\x8c\\x02if\\x94\\x8c\\x02an\\x94\\x8c\\x06school\\x94\\x8c\\x03amp\\x94\\x8c\\x04only\\x94\\x8c\\x07morning\\x94\\x8c\\x04hate\\x94\\x8c\\x04love\\x94\\x8c\\x04then\\x94\\x8c\\x06though\\x94\\x8c\\x02or\\x94\\x8c\\x03bed\\x94\\x8c\\x02he\\x94\\x8c\\x04sick\\x94\\x8c\\x04over\\x94\\x8c\\x04hope\\x94\\x8c\\x05right\\x94\\x8c\\x07getting\\x94\\x8c\\x07twitter\\x94\\x8c\\x03new\\x94\\x8c\\x03ill\\x94\\x8c\\x03ive\\x94\\x8c\\x04very\\x94\\x8c\\x05could\\x94\\x8c\\x04week\\x94\\x8c\\x05would\\x94\\x8c\\x03she\\x94\\x8c\\x03did\\x94\\x8c\\x02by\\x94\\x8c\\x05tired\\x94\\x8c\\x05thats\\x94\\x8c\\x04come\\x94\\x8c\\x04even\\x94\\x8c\\x04make\\x94\\x8c\\x03way\\x94\\x8c\\x07tonight\\x94\\x8c\\x05gonna\\x94\\x8c\\x07feeling\\x94\\x8c\\x04were\\x94\\x8c\\x04down\\x94\\x8c\\x04them\\x94\\x8c\\x07working\\x94\\x8c\\x05never\\x94\\x8c\\x05wanna\\x94\\x8c\\x05after\\x94\\x8c\\x04lost\\x94\\x8c\\x06better\\x94\\x8c\\x04wont\\x94\\x8c\\x07weekend\\x94\\x8c\\x03him\\x94\\x8c\\x04days\\x94\\x8c\\x06doesnt\\x94\\x8c\\x03soo\\x94\\x8c\\x03fun\\x94\\x8c\\x05being\\x94\\x8c\\x06should\\x94\\x8c\\x05hours\\x94\\x8c\\x06people\\x94\\x8c\\x04long\\x94\\x8c\\x04next\\x94\\x8c\\x04find\\x94\\x8c\\x05doing\\x94\\x8c\\x03any\\x94\\x8c\\x07another\\x94\\x8c\\x03aww\\x94\\x8c\\x07already\\x94\\x8c\\x04haha\\x94\\x8c\\x04yeah\\x94\\x8c\\x05sucks\\x94\\x8c\\x06missed\\x94\\x8c\\x04damn\\x94\\x8c\\x08watching\\x94\\x8c\\x07because\\x94\\x8c\\x03his\\x94\\x8c\\x06having\\x94\\x8c\\x05great\\x94\\x8c\\x05early\\x94\\x8c\\x04away\\x94\\x8c\\x03yet\\x94\\x8c\\x06trying\\x94\\x8c\\x04soon\\x94\\x8c\\x03ugh\\x94\\x8c\\x04take\\x94\\x8c\\x06little\\x94\\x8c\\x04went\\x94\\x8c\\x05phone\\x94\\x8c\\x04left\\x94\\x8c\\x05where\\x94\\x8c\\x04done\\x94\\x8c\\x05happy\\x94\\x8c\\x05bored\\x94\\x8c\\x04cold\\x94\\x8c\\x05watch\\x94\\x8c\\x03man\\x94\\x8c\\x04poor\\x94\\x8c\\x04nice\\x94\\x8c\\x05thing\\x94\\x8c\\x06before\\x94\\x8c\\x04than\\x94\\x8c\\x05ready\\x94\\x8c\\x04life\\x94\\x8c\\tsomething\\x94\\x8c\\x06havent\\x94\\x8c\\x04wait\\x94\\x8c\\x07missing\\x94\\x8c\\x07someone\\x94\\x8c\\x05first\\x94\\x8c\\x05house\\x94\\x8c\\x04rain\\x94\\x8c\\x03who\\x94\\x8c\\x07friends\\x94\\x8c\\x04show\\x94\\x8c\\x06please\\x94\\x8c\\x04isnt\\x94\\x8c\\x03our\\x94\\x8c\\x05hurts\\x94\\x8c\\x06always\\x94\\x8c\\x02ok\\x94\\x8c\\x04woke\\x94\\x8c\\x03omg\\x94\\x8c\\x06monday\\x94\\x8c\\x07nothing\\x94\\x8c\\x04hard\\x94\\x8c\\x04gone\\x94\\x8c\\x07looking\\x94\\x8c\\x04ever\\x94\\x8c\\x05guess\\x94\\x8c\\x06sunday\\x94\\x8c\\x04late\\x94\\x8c\\x04made\\x94\\x8c\\x04into\\x94\\x8c\\x07weather\\x94\\x8c\\x04does\\x94\\x8c\\x02us\\x94\\x8c\\x04help\\x94\\x8c\\x05start\\x94\\x8c\\x03old\\x94\\x8c\\tyesterday\\x94\\x8c\\x05since\\x94\\x8c\\x04same\\x94\\x8c\\x03boo\\x94\\x8c\\x05youre\\x94\\x8c\\x03bit\\x94\\x8c\\x03mom\\x94\\x8c\\x07mothers\\x94\\x8c\\x08everyone\\x94\\x8c\\x06thanks\\x94\\x8c\\x03say\\x94\\x8c\\x05gotta\\x94\\x8c\\x03car\\x94\\x8c\\x05until\\x94\\x8c\\x07thought\\x94\\x8c\\x06stupid\\x94\\x8c\\x04year\\x94\\x8c\\x06things\\x94\\x8c\\x04sure\\x94\\x8c\\x04hear\\x94\\x8c\\x04head\\x94\\x8c\\x05other\\x94\\x8c\\x05looks\\x94\\x8c\\x03yes\\x94\\x8c\\x04keep\\x94\\x8c\\x01x\\x94\\x8c\\x03two\\x94\\x8c\\x06myself\\x94\\x8c\\x05leave\\x94\\x8c\\x04best\\x94\\x8c\\x03let\\x94\\x8c\\x06coming\\x94\\x8c\\x05maybe\\x94\\x8c\\x06pretty\\x94\\x8c\\x05while\\x94\\x8c\\x07waiting\\x94\\x8c\\x03big\\x94\\x8c\\x08headache\\x94\\x8c\\x06wanted\\x94\\x8c\\x03may\\x94\\x8c\\x04shit\\x94\\x8c\\x04game\\x94\\x8c\\x08homework\\x94\\x8c\\x07believe\\x94\\x8c\\x04hour\\x94\\x8c\\x03end\\x94\\x8c\\x04play\\x94\\x8c\\x07outside\\x94\\x8c\\x08anything\\x94\\x8c\\x04guys\\x94\\x8c\\x04many\\x94\\x8c\\x07couldnt\\x94\\x8c\\x05stuck\\x94\\x8c\\x03hot\\x94\\x8c\\x03sun\\x94\\x8c\\x07anymore\\x94\\x8c\\x04also\\x94\\x8c\\x04baby\\x94\\x8c\\x05makes\\x94\\x8c\\x03tho\\x94\\x8c\\x04look\\x94\\x8c\\x04such\\x94\\x8c\\x05wasnt\\x94\\x8c\\x07without\\x94\\x8c\\x04live\\x94\\x8c\\x08actually\\x94\\x8c\\x06almost\\x94\\x8c\\x03few\\x94\\x8c\\x04till\\x94\\x8c\\x04must\\x94\\x8c\\x05wants\\x94\\x8c\\x05weeks\\x94\\x8c\\x04stop\\x94\\x8c\\x05stuff\\x94\\x8c\\x03hey\\x94\\x8c\\x01n\\x94\\x8c\\x03try\\x94\\x8c\\x05might\\x94\\x8c\\x03saw\\x94\\x8c\\x02ur\\x94\\x8c\\x04said\\x94\\x8c\\x03hes\\x94\\x8c\\x03far\\x94\\x8c\\x06anyone\\x94\\x8c\\x07finally\\x94\\x8c\\x05awake\\x94\\x8c\\x06around\\x94\\x8c\\x05later\\x94\\x8c\\x06forgot\\x94\\x8c\\x04hurt\\x94\\x8c\\x06making\\x94\\x8c\\x05their\\x94\\x8c\\x05found\\x94\\x8c\\x04tell\\x94\\x8c\\x05movie\\x94\\x8c\\x06friend\\x94\\x8c\\x02xx\\x94\\x8c\\x07raining\\x94\\x8c\\x05wrong\\x94\\x8c\\x04girl\\x94\\x8c\\x03wow\\x94\\x8c\\x03put\\x94\\x8c\\x05cause\\x94\\x8c\\x05clean\\x94\\x8c\\x05party\\x94\\x8c\\x03god\\x94\\x8c\\x03use\\x94\\x8c\\x04talk\\x94\\x8c\\x03lot\\x94\\x8c\\x06enough\\x94\\x8c\\x03eat\\x94\\x8c\\x05times\\x94\\x8c\\x05those\\x94\\x8c\\x03ahh\\x94\\x8c\\x08probably\\x94\\x8c\\x05study\\x94\\x8c\\x05tweet\\x94\\x8c\\x04room\\x94\\x8c\\x08thinking\\x94\\x8c\\x04mean\\x94\\x8c\\x02id\\x94\\x8c\\x05feels\\x94\\x8c\\x06theres\\x94\\x8c\\x05which\\x94\\x8c\\x05whats\\x94\\x8c\\x04call\\x94\\x8c\\x05class\\x94\\x8c\\x06boring\\x94\\x8c\\x04cool\\x94\\x8c\\x05least\\x94\\x8c\\x04food\\x94\\x8c\\x04sore\\x94\\x8c\\x07awesome\\x94\\x8c\\x08finished\\x94\\x8c\\x04pain\\x94\\x8c\\x05money\\x94\\x8c\\x07through\\x94\\x8c\\x07totally\\x94\\x8c\\x05alone\\x94\\x8c\\x06family\\x94\\x8c\\x04most\\x94\\x8c\\x05these\\x94\\x8c\\x04stay\\x94\\x8c\\x08saturday\\x94\\x8c\\x04hell\\x94\\x8c\\x04read\\x94\\x8c\\x04give\\x94\\x8c\\n']\n"
          ]
        }
      ]
    },
    {
      "cell_type": "code",
      "source": [
        "\n"
      ],
      "metadata": {
        "id": "oZ3WGg2w4Bcm"
      },
      "execution_count": null,
      "outputs": []
    }
  ]
}